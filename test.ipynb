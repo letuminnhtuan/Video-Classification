{
 "cells": [
  {
   "cell_type": "code",
   "execution_count": 1,
   "id": "initial_id",
   "metadata": {
    "collapsed": true,
    "ExecuteTime": {
     "end_time": "2024-03-14T01:41:58.422847287Z",
     "start_time": "2024-03-14T01:41:56.881191976Z"
    }
   },
   "outputs": [],
   "source": [
    "import torch"
   ]
  },
  {
   "cell_type": "code",
   "outputs": [],
   "source": [
    "input_chanel = 3\n",
    "output_chanel = 64\n",
    "patch_embedding = torch.nn.Sequential(\n",
    "    torch.nn.Conv3d(in_channels=input_chanel, out_channels=16, kernel_size=(8, 8, 8), stride=(8, 8, 8), padding=(0, 0, 0)),\n",
    "    torch.nn.BatchNorm3d(16),\n",
    "    torch.nn.ReLU(),\n",
    "    torch.nn.Conv3d(in_channels=16, out_channels=32, kernel_size=(1, 7, 7), stride=(1, 7, 7), padding=(0, 0, 0)),\n",
    "    torch.nn.BatchNorm3d(32),\n",
    "    torch.nn.ReLU(),\n",
    "    torch.nn.Conv3d(in_channels=32, out_channels=32, kernel_size=(1, 4, 4), stride=(1, 4, 4), padding=(0, 0, 0)),\n",
    "    torch.nn.BatchNorm3d(32),\n",
    "    torch.nn.ReLU(),\n",
    "    torch.nn.Flatten(start_dim=-3)\n",
    ")"
   ],
   "metadata": {
    "collapsed": false,
    "ExecuteTime": {
     "end_time": "2024-03-13T16:01:44.919040Z",
     "start_time": "2024-03-13T16:01:44.905087Z"
    }
   },
   "id": "80e50a9bfea03a0",
   "execution_count": 2
  },
  {
   "cell_type": "code",
   "outputs": [],
   "source": [
    "x = torch.randn((16, 3, 48, 224, 224))"
   ],
   "metadata": {
    "collapsed": false,
    "ExecuteTime": {
     "end_time": "2024-03-13T16:01:45.301379Z",
     "start_time": "2024-03-13T16:01:44.920037Z"
    }
   },
   "id": "482db9268f8c027a",
   "execution_count": 3
  },
  {
   "cell_type": "code",
   "outputs": [
    {
     "name": "stdout",
     "output_type": "stream",
     "text": [
      "torch.Size([16, 32, 6])\n"
     ]
    }
   ],
   "source": [
    "print(patch_embedding(x).shape)"
   ],
   "metadata": {
    "collapsed": false,
    "ExecuteTime": {
     "end_time": "2024-03-13T16:01:45.332157Z",
     "start_time": "2024-03-13T16:01:45.301379Z"
    }
   },
   "id": "c7f00c8c961cc398",
   "execution_count": 4
  },
  {
   "cell_type": "code",
   "outputs": [],
   "source": [],
   "metadata": {
    "collapsed": false,
    "ExecuteTime": {
     "end_time": "2024-03-13T16:01:45.348104Z",
     "start_time": "2024-03-13T16:01:45.333154Z"
    }
   },
   "id": "f3580bb81e2e4b9b",
   "execution_count": 4
  }
 ],
 "metadata": {
  "kernelspec": {
   "display_name": "Python 3",
   "language": "python",
   "name": "python3"
  },
  "language_info": {
   "codemirror_mode": {
    "name": "ipython",
    "version": 2
   },
   "file_extension": ".py",
   "mimetype": "text/x-python",
   "name": "python",
   "nbconvert_exporter": "python",
   "pygments_lexer": "ipython2",
   "version": "2.7.6"
  }
 },
 "nbformat": 4,
 "nbformat_minor": 5
}
