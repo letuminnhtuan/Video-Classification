{
 "cells": [
  {
   "cell_type": "code",
   "execution_count": 49,
   "id": "initial_id",
   "metadata": {
    "collapsed": true,
    "ExecuteTime": {
     "end_time": "2024-03-18T13:04:43.920159Z",
     "start_time": "2024-03-18T13:04:43.912160Z"
    }
   },
   "outputs": [],
   "source": [
    "import os\n",
    "import numpy as np\n",
    "import pandas as pd\n",
    "import torch\n",
    "from sklearn.model_selection import train_test_split\n",
    "from sklearn.utils.class_weight import compute_class_weight"
   ]
  },
  {
   "cell_type": "code",
   "outputs": [],
   "source": [
    "data_path = 'processed_data'\n",
    "paths = []\n",
    "x = []\n",
    "labels = []\n",
    "i = 0\n",
    "with open('label.txt', 'w') as f:\n",
    "    for label, dir in enumerate(os.listdir(data_path)):\n",
    "        video_folder = os.path.join(data_path, dir)\n",
    "        f.write('{}\\n'.format(dir))\n",
    "        for path in os.listdir(video_folder):\n",
    "            video_path = os.path.join(video_folder, path)\n",
    "            paths.append(video_path)\n",
    "            labels.append(label)\n",
    "            x.append(i)\n",
    "            i += 1\n",
    "x = np.asarray(x)\n",
    "y = np.asarray(labels)\n",
    "X_train, X_test, y_train, y_test = train_test_split(x, y, test_size=0.2, random_state=42, stratify=y)"
   ],
   "metadata": {
    "collapsed": false,
    "ExecuteTime": {
     "end_time": "2024-03-18T13:04:44.144164Z",
     "start_time": "2024-03-18T13:04:44.133160Z"
    }
   },
   "id": "d7db3b0e286d5183",
   "execution_count": 50
  },
  {
   "cell_type": "code",
   "outputs": [],
   "source": [
    "class_weights = compute_class_weight('balanced', classes=np.unique(y), y=y)\n",
    "torch.save(class_weights, 'class_weights.pt')"
   ],
   "metadata": {
    "collapsed": false,
    "ExecuteTime": {
     "end_time": "2024-03-18T13:04:44.521667Z",
     "start_time": "2024-03-18T13:04:44.515665Z"
    }
   },
   "id": "3876e4cb8bfb1f1",
   "execution_count": 51
  },
  {
   "cell_type": "code",
   "outputs": [],
   "source": [
    "train_data = {\n",
    "    'paths': [paths[i] for i in X_train],\n",
    "    'labels': [x[i] for i in y_train],\n",
    "}\n",
    "val_data = {\n",
    "    'paths': [paths[i] for i in X_test],\n",
    "    'labels': [x[i] for i in y_test],\n",
    "}"
   ],
   "metadata": {
    "collapsed": false,
    "ExecuteTime": {
     "end_time": "2024-03-18T13:04:45.217051Z",
     "start_time": "2024-03-18T13:04:45.211051Z"
    }
   },
   "id": "4380b8d3bc28cfde",
   "execution_count": 52
  },
  {
   "cell_type": "code",
   "outputs": [],
   "source": [
    "df_train = pd.DataFrame(train_data)\n",
    "df_val = pd.DataFrame(val_data)"
   ],
   "metadata": {
    "collapsed": false,
    "ExecuteTime": {
     "end_time": "2024-03-18T13:04:45.502182Z",
     "start_time": "2024-03-18T13:04:45.477678Z"
    }
   },
   "id": "3465b558cff2fd7d",
   "execution_count": 53
  },
  {
   "cell_type": "code",
   "outputs": [],
   "source": [
    "df_train.to_csv('train_data.csv', index=False)\n",
    "df_val.to_csv('val_data.csv', index=False)"
   ],
   "metadata": {
    "collapsed": false,
    "ExecuteTime": {
     "end_time": "2024-03-18T13:04:46.280639Z",
     "start_time": "2024-03-18T13:04:46.267636Z"
    }
   },
   "id": "ae712e5f12c07eb0",
   "execution_count": 54
  },
  {
   "cell_type": "code",
   "outputs": [],
   "source": [],
   "metadata": {
    "collapsed": false
   },
   "id": "8abfe2a5c1f6b8e3"
  }
 ],
 "metadata": {
  "kernelspec": {
   "display_name": "Python 3",
   "language": "python",
   "name": "python3"
  },
  "language_info": {
   "codemirror_mode": {
    "name": "ipython",
    "version": 2
   },
   "file_extension": ".py",
   "mimetype": "text/x-python",
   "name": "python",
   "nbconvert_exporter": "python",
   "pygments_lexer": "ipython2",
   "version": "2.7.6"
  }
 },
 "nbformat": 4,
 "nbformat_minor": 5
}
