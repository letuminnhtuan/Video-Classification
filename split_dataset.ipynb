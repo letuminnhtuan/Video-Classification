{
 "cells": [
  {
   "cell_type": "code",
   "execution_count": 1,
   "id": "initial_id",
   "metadata": {
    "collapsed": true,
    "ExecuteTime": {
     "end_time": "2024-03-25T07:51:50.332082Z",
     "start_time": "2024-03-25T07:51:47.254917Z"
    }
   },
   "outputs": [],
   "source": [
    "import os\n",
    "import numpy as np\n",
    "import pandas as pd\n",
    "import torch\n",
    "from sklearn.model_selection import train_test_split\n",
    "from sklearn.utils.class_weight import compute_class_weight"
   ]
  },
  {
   "cell_type": "code",
   "outputs": [],
   "source": [
    "data_path = 'processed_data'\n",
    "paths = []\n",
    "x = []\n",
    "labels = []\n",
    "i = 0\n",
    "with open('label.txt', 'w') as f:\n",
    "    for label, dir in enumerate(os.listdir(data_path)):\n",
    "        video_folder = os.path.join(data_path, dir)\n",
    "        f.write('{}\\n'.format(dir))\n",
    "        for path in os.listdir(video_folder):\n",
    "            video_path = os.path.join(video_folder, path)\n",
    "            paths.append(video_path)\n",
    "            labels.append(label)\n",
    "            x.append(i)\n",
    "            i += 1\n",
    "x = np.asarray(x)\n",
    "y = np.asarray(labels)\n",
    "X_train, X_test, y_train, y_test = train_test_split(x, y, test_size=0.1, random_state=42, stratify=y)"
   ],
   "metadata": {
    "collapsed": false,
    "ExecuteTime": {
     "end_time": "2024-03-25T07:51:50.363209Z",
     "start_time": "2024-03-25T07:51:50.333083Z"
    }
   },
   "id": "d7db3b0e286d5183",
   "execution_count": 2
  },
  {
   "cell_type": "code",
   "outputs": [],
   "source": [
    "class_weights = compute_class_weight('balanced', classes=np.unique(y), y=y)\n",
    "torch.save(class_weights, 'class_weights.pt')"
   ],
   "metadata": {
    "collapsed": false,
    "ExecuteTime": {
     "end_time": "2024-03-25T07:51:51.701379Z",
     "start_time": "2024-03-25T07:51:51.690871Z"
    }
   },
   "id": "3876e4cb8bfb1f1",
   "execution_count": 3
  },
  {
   "cell_type": "code",
   "outputs": [],
   "source": [
    "train_data = {\n",
    "    'paths': [paths[i] for i in X_train],\n",
    "    'labels': [x[i] for i in y_train],\n",
    "}\n",
    "val_data = {\n",
    "    'paths': [paths[i] for i in X_test],\n",
    "    'labels': [x[i] for i in y_test],\n",
    "}"
   ],
   "metadata": {
    "collapsed": false,
    "ExecuteTime": {
     "end_time": "2024-03-25T07:51:51.980259Z",
     "start_time": "2024-03-25T07:51:51.972070Z"
    }
   },
   "id": "4380b8d3bc28cfde",
   "execution_count": 4
  },
  {
   "cell_type": "code",
   "outputs": [],
   "source": [
    "df_train = pd.DataFrame(train_data)\n",
    "df_val = pd.DataFrame(val_data)"
   ],
   "metadata": {
    "collapsed": false,
    "ExecuteTime": {
     "end_time": "2024-03-25T07:51:52.246088Z",
     "start_time": "2024-03-25T07:51:52.223026Z"
    }
   },
   "id": "3465b558cff2fd7d",
   "execution_count": 5
  },
  {
   "cell_type": "code",
   "outputs": [],
   "source": [
    "df_train.to_csv('train_data.csv', index=False)\n",
    "df_val.to_csv('val_data.csv', index=False)"
   ],
   "metadata": {
    "collapsed": false,
    "ExecuteTime": {
     "end_time": "2024-03-25T07:51:52.998857Z",
     "start_time": "2024-03-25T07:51:52.979859Z"
    }
   },
   "id": "ae712e5f12c07eb0",
   "execution_count": 6
  },
  {
   "cell_type": "code",
   "outputs": [
    {
     "data": {
      "text/plain": "([<matplotlib.axis.XTick at 0x1d5ad8dc310>,\n  <matplotlib.axis.XTick at 0x1d5ad8dc2e0>,\n  <matplotlib.axis.XTick at 0x1d5ad893ac0>,\n  <matplotlib.axis.XTick at 0x1d5ad92aef0>,\n  <matplotlib.axis.XTick at 0x1d5ad92b9a0>,\n  <matplotlib.axis.XTick at 0x1d5ad96c490>,\n  <matplotlib.axis.XTick at 0x1d5ad96cf40>,\n  <matplotlib.axis.XTick at 0x1d5ad92b550>,\n  <matplotlib.axis.XTick at 0x1d5ad96dc30>,\n  <matplotlib.axis.XTick at 0x1d5ad96e710>,\n  <matplotlib.axis.XTick at 0x1d5ad96f1c0>,\n  <matplotlib.axis.XTick at 0x1d5ad96fc70>,\n  <matplotlib.axis.XTick at 0x1d5ad96df30>,\n  <matplotlib.axis.XTick at 0x1d5af9945b0>,\n  <matplotlib.axis.XTick at 0x1d5af995060>,\n  <matplotlib.axis.XTick at 0x1d5af995b10>,\n  <matplotlib.axis.XTick at 0x1d5ad92b610>,\n  <matplotlib.axis.XTick at 0x1d5af996410>,\n  <matplotlib.axis.XTick at 0x1d5af996ec0>,\n  <matplotlib.axis.XTick at 0x1d5af997970>,\n  <matplotlib.axis.XTick at 0x1d5af9b4460>,\n  <matplotlib.axis.XTick at 0x1d5af996950>],\n [Text(0, 0, '0'),\n  Text(1, 0, '1'),\n  Text(2, 0, '2'),\n  Text(3, 0, '3'),\n  Text(4, 0, '4'),\n  Text(5, 0, '5'),\n  Text(6, 0, '6'),\n  Text(7, 0, '7'),\n  Text(8, 0, '8'),\n  Text(9, 0, '9'),\n  Text(10, 0, '10'),\n  Text(11, 0, '11'),\n  Text(12, 0, '12'),\n  Text(13, 0, '13'),\n  Text(14, 0, '14'),\n  Text(15, 0, '15'),\n  Text(16, 0, '16'),\n  Text(17, 0, '17'),\n  Text(18, 0, '18'),\n  Text(19, 0, '19'),\n  Text(20, 0, '20'),\n  Text(21, 0, '21')])"
     },
     "execution_count": 7,
     "metadata": {},
     "output_type": "execute_result"
    },
    {
     "data": {
      "text/plain": "<Figure size 640x480 with 1 Axes>",
      "image/png": "[encoded data removed]"
     },
     "metadata": {},
     "output_type": "display_data"
    }
   ],
   "source": [
    "import os\n",
    "import matplotlib.pyplot as plt\n",
    "path = 'processed_data'\n",
    "l = [len(os.listdir(os.path.join(path, dir))) for dir in os.listdir(path)]\n",
    "plt.bar(np.arange(len(l)), l, align='center')\n",
    "plt.xticks(np.arange(len(l)), rotation=90)"
   ],
   "metadata": {
    "collapsed": false,
    "ExecuteTime": {
     "end_time": "2024-03-25T07:51:56.866782Z",
     "start_time": "2024-03-25T07:51:56.427894Z"
    }
   },
   "id": "8abfe2a5c1f6b8e3",
   "execution_count": 7
  },
  {
   "cell_type": "code",
   "outputs": [],
   "source": [],
   "metadata": {
    "collapsed": false
   },
   "id": "97ab63cd3c31d03d"
  }
 ],
 "metadata": {
  "kernelspec": {
   "display_name": "Python 3",
   "language": "python",
   "name": "python3"
  },
  "language_info": {
   "codemirror_mode": {
    "name": "ipython",
    "version": 2
   },
   "file_extension": ".py",
   "mimetype": "text/x-python",
   "name": "python",
   "nbconvert_exporter": "python",
   "pygments_lexer": "ipython2",
   "version": "2.7.6"
  }
 },
 "nbformat": 4,
 "nbformat_minor": 5
}
