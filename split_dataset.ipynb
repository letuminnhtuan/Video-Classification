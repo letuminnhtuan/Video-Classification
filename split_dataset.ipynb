{
 "cells": [
  {
   "cell_type": "code",
   "execution_count": 23,
   "id": "initial_id",
   "metadata": {
    "collapsed": true,
    "ExecuteTime": {
     "end_time": "2024-03-24T12:13:08.584811Z",
     "start_time": "2024-03-24T12:13:08.574753Z"
    }
   },
   "outputs": [],
   "source": [
    "import os\n",
    "import numpy as np\n",
    "import pandas as pd\n",
    "import torch\n",
    "from sklearn.model_selection import train_test_split\n",
    "from sklearn.utils.class_weight import compute_class_weight"
   ]
  },
  {
   "cell_type": "code",
   "outputs": [],
   "source": [
    "data_path = 'processed_data'\n",
    "paths = []\n",
    "x = []\n",
    "labels = []\n",
    "i = 0\n",
    "with open('label.txt', 'w') as f:\n",
    "    for label, dir in enumerate(os.listdir(data_path)):\n",
    "        video_folder = os.path.join(data_path, dir)\n",
    "        f.write('{}\\n'.format(dir))\n",
    "        for path in os.listdir(video_folder):\n",
    "            video_path = os.path.join(video_folder, path)\n",
    "            paths.append(video_path)\n",
    "            labels.append(label)\n",
    "            x.append(i)\n",
    "            i += 1\n",
    "x = np.asarray(x)\n",
    "y = np.asarray(labels)\n",
    "X_train, X_test, y_train, y_test = train_test_split(x, y, test_size=0.1, random_state=42, stratify=y)"
   ],
   "metadata": {
    "collapsed": false,
    "ExecuteTime": {
     "end_time": "2024-03-24T12:13:09.102904Z",
     "start_time": "2024-03-24T12:13:09.074393Z"
    }
   },
   "id": "d7db3b0e286d5183",
   "execution_count": 24
  },
  {
   "cell_type": "code",
   "outputs": [],
   "source": [
    "class_weights = compute_class_weight('balanced', classes=np.unique(y), y=y)\n",
    "torch.save(class_weights, 'class_weights.pt')"
   ],
   "metadata": {
    "collapsed": false,
    "ExecuteTime": {
     "end_time": "2024-03-24T12:13:09.589780Z",
     "start_time": "2024-03-24T12:13:09.583679Z"
    }
   },
   "id": "3876e4cb8bfb1f1",
   "execution_count": 25
  },
  {
   "cell_type": "code",
   "outputs": [],
   "source": [
    "train_data = {\n",
    "    'paths': [paths[i] for i in X_train],\n",
    "    'labels': [x[i] for i in y_train],\n",
    "}\n",
    "val_data = {\n",
    "    'paths': [paths[i] for i in X_test],\n",
    "    'labels': [x[i] for i in y_test],\n",
    "}"
   ],
   "metadata": {
    "collapsed": false,
    "ExecuteTime": {
     "end_time": "2024-03-24T12:13:09.997191Z",
     "start_time": "2024-03-24T12:13:09.980182Z"
    }
   },
   "id": "4380b8d3bc28cfde",
   "execution_count": 26
  },
  {
   "cell_type": "code",
   "outputs": [],
   "source": [
    "df_train = pd.DataFrame(train_data)\n",
    "df_val = pd.DataFrame(val_data)"
   ],
   "metadata": {
    "collapsed": false,
    "ExecuteTime": {
     "end_time": "2024-03-24T12:13:10.136682Z",
     "start_time": "2024-03-24T12:13:10.120079Z"
    }
   },
   "id": "3465b558cff2fd7d",
   "execution_count": 27
  },
  {
   "cell_type": "code",
   "outputs": [],
   "source": [
    "df_train.to_csv('train_data.csv', index=False)\n",
    "df_val.to_csv('val_data.csv', index=False)"
   ],
   "metadata": {
    "collapsed": false,
    "ExecuteTime": {
     "end_time": "2024-03-24T12:13:10.685777Z",
     "start_time": "2024-03-24T12:13:10.677276Z"
    }
   },
   "id": "ae712e5f12c07eb0",
   "execution_count": 28
  },
  {
   "cell_type": "code",
   "outputs": [
    {
     "data": {
      "text/plain": "([<matplotlib.axis.XTick at 0x1a2eb644760>,\n  <matplotlib.axis.XTick at 0x1a2eb644730>,\n  <matplotlib.axis.XTick at 0x1a2eb273100>,\n  <matplotlib.axis.XTick at 0x1a2eb67f340>,\n  <matplotlib.axis.XTick at 0x1a2eb67fdf0>,\n  <matplotlib.axis.XTick at 0x1a2eb6b88e0>,\n  <matplotlib.axis.XTick at 0x1a2eb67ec80>,\n  <matplotlib.axis.XTick at 0x1a2eb6b8250>,\n  <matplotlib.axis.XTick at 0x1a2eb6b9960>,\n  <matplotlib.axis.XTick at 0x1a2eb6ba410>,\n  <matplotlib.axis.XTick at 0x1a2eb6baec0>,\n  <matplotlib.axis.XTick at 0x1a2eb6ba650>,\n  <matplotlib.axis.XTick at 0x1a2eb6bb8e0>,\n  <matplotlib.axis.XTick at 0x1a2eb7703d0>,\n  <matplotlib.axis.XTick at 0x1a2eb770e80>,\n  <matplotlib.axis.XTick at 0x1a2eb771930>,\n  <matplotlib.axis.XTick at 0x1a2eb6b9510>,\n  <matplotlib.axis.XTick at 0x1a2eb772230>,\n  <matplotlib.axis.XTick at 0x1a2eb772ce0>,\n  <matplotlib.axis.XTick at 0x1a2eb773790>,\n  <matplotlib.axis.XTick at 0x1a2eb78c280>,\n  <matplotlib.axis.XTick at 0x1a2eb772470>],\n [Text(0, 0, '0'),\n  Text(1, 0, '1'),\n  Text(2, 0, '2'),\n  Text(3, 0, '3'),\n  Text(4, 0, '4'),\n  Text(5, 0, '5'),\n  Text(6, 0, '6'),\n  Text(7, 0, '7'),\n  Text(8, 0, '8'),\n  Text(9, 0, '9'),\n  Text(10, 0, '10'),\n  Text(11, 0, '11'),\n  Text(12, 0, '12'),\n  Text(13, 0, '13'),\n  Text(14, 0, '14'),\n  Text(15, 0, '15'),\n  Text(16, 0, '16'),\n  Text(17, 0, '17'),\n  Text(18, 0, '18'),\n  Text(19, 0, '19'),\n  Text(20, 0, '20'),\n  Text(21, 0, '21')])"
     },
     "execution_count": 29,
     "metadata": {},
     "output_type": "execute_result"
    },
    {
     "data": {
      "text/plain": "<Figure size 640x480 with 1 Axes>",
      "image/png": "[encoded data removed]"
     },
     "metadata": {},
     "output_type": "display_data"
    }
   ],
   "source": [
    "import os\n",
    "import matplotlib.pyplot as plt\n",
    "path = 'processed_data'\n",
    "l = [len(os.listdir(os.path.join(path, dir))) for dir in os.listdir(path)]\n",
    "plt.bar(np.arange(len(l)), l, align='center')\n",
    "plt.xticks(np.arange(len(l)), rotation=90)"
   ],
   "metadata": {
    "collapsed": false,
    "ExecuteTime": {
     "end_time": "2024-03-24T12:13:11.089885Z",
     "start_time": "2024-03-24T12:13:10.991660Z"
    }
   },
   "id": "8abfe2a5c1f6b8e3",
   "execution_count": 29
  },
  {
   "cell_type": "code",
   "outputs": [],
   "source": [],
   "metadata": {
    "collapsed": false
   },
   "id": "97ab63cd3c31d03d"
  }
 ],
 "metadata": {
  "kernelspec": {
   "display_name": "Python 3",
   "language": "python",
   "name": "python3"
  },
  "language_info": {
   "codemirror_mode": {
    "name": "ipython",
    "version": 2
   },
   "file_extension": ".py",
   "mimetype": "text/x-python",
   "name": "python",
   "nbconvert_exporter": "python",
   "pygments_lexer": "ipython2",
   "version": "2.7.6"
  }
 },
 "nbformat": 4,
 "nbformat_minor": 5
}
